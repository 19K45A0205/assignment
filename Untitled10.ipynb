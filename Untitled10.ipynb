{
  "nbformat": 4,
  "nbformat_minor": 0,
  "metadata": {
    "colab": {
      "name": "Untitled10.ipynb",
      "provenance": [],
      "authorship_tag": "ABX9TyNI1cSRXIl8g5NV0DuXaHxZ"
    },
    "kernelspec": {
      "name": "python3",
      "display_name": "Python 3"
    }
  },
  "cells": [
    {
      "cell_type": "markdown",
      "metadata": {
        "id": "bwNcEV5WDONw",
        "colab_type": "text"
      },
      "source": [
        "12. Compute given Num_list = [5, 6,8 ,34,89,1] to get desired output\n",
        "Output: Out_list=[11,14,42,123,90]"
      ]
    },
    {
      "cell_type": "code",
      "metadata": {
        "id": "6xfJrUPRDRCr",
        "colab_type": "code",
        "colab": {
          "base_uri": "https://localhost:8080/",
          "height": 34
        },
        "outputId": "a1f452c9-7f19-471c-8d78-2207378d4f2a"
      },
      "source": [
        "L=[5,6,8,34,89,1]\n",
        "Out_list=[]\n",
        "for i in range(len(L)-1):\n",
        "    ol=L[i]+L[i+1]\n",
        "    Out_list.append(ol)\n",
        "print(\"Out_list=\",Out_list)\n",
        "  \n"
      ],
      "execution_count": null,
      "outputs": [
        {
          "output_type": "stream",
          "text": [
            "Out_list= [11, 14, 42, 123, 90]\n"
          ],
          "name": "stdout"
        }
      ]
    },
    {
      "cell_type": "markdown",
      "metadata": {
        "id": "qcP5rW0PE9px",
        "colab_type": "text"
      },
      "source": [
        "13. Compute given Num_tuple = (5, 6,8 ,3,9,1) to get desired output\n",
        "Output: Out_list = [5, 30, 240, 720, 6480, 6480]"
      ]
    },
    {
      "cell_type": "code",
      "metadata": {
        "id": "tTxta5mSFHcE",
        "colab_type": "code",
        "colab": {
          "base_uri": "https://localhost:8080/",
          "height": 34
        },
        "outputId": "76c4129c-689f-4b11-b918-7ecd25733578"
      },
      "source": [
        "N=(5,6,8,3,9,1)\n",
        "Out_list=[]\n",
        "Out_list.append(N[0])\n",
        "for i in range(len(N)-1):\n",
        "    M=Out_list[i]*N[i+1]\n",
        "    Out_list.append(M)\n",
        "print(\"Out_list=\",Out_list)\n"
      ],
      "execution_count": null,
      "outputs": [
        {
          "output_type": "stream",
          "text": [
            "Out_list= [5, 30, 240, 720, 6480, 6480]\n"
          ],
          "name": "stdout"
        }
      ]
    },
    {
      "cell_type": "markdown",
      "metadata": {
        "id": "zd6IbiQkvL3X",
        "colab_type": "text"
      },
      "source": [
        "14.  Write a Python code that takes a number and returns a list of its digits. So for 586392 it should return [5,8,6,3,9,2]."
      ]
    },
    {
      "cell_type": "code",
      "metadata": {
        "id": "5fvVm17AvUqE",
        "colab_type": "code",
        "colab": {
          "base_uri": "https://localhost:8080/",
          "height": 50
        },
        "outputId": "27ef2b3a-b5c6-487d-c3ca-4f00f5e8dd1d"
      },
      "source": [
        "number=input(\"Enter a number: \")\n",
        "list=[]\n",
        "for n in range(len(number)):\n",
        "    list.append(number[n])\n",
        "print(list)\n"
      ],
      "execution_count": null,
      "outputs": [
        {
          "output_type": "stream",
          "text": [
            "Enter a number: 586392\n",
            "['5', '8', '6', '3', '9', '2']\n"
          ],
          "name": "stdout"
        }
      ]
    },
    {
      "cell_type": "markdown",
      "metadata": {
        "id": "kRJqM3lYv3Y0",
        "colab_type": "text"
      },
      "source": [
        "15. Write a program that finds the longest palindromic substring of a given\n",
        "string"
      ]
    },
    {
      "cell_type": "code",
      "metadata": {
        "id": "11vwXG4TwQf-",
        "colab_type": "code",
        "colab": {
          "base_uri": "https://localhost:8080/",
          "height": 50
        },
        "outputId": "57fe50bd-cda3-4128-9145-53369947816b"
      },
      "source": [
        "def longestpalindrome(n):\n",
        "    d=[[False for i in range(len(n))] for i in range(len(n))]\n",
        "    for i in range(len(n)):\n",
        "        d[i][i]=True\n",
        "    maxlen=1\n",
        "    start=0\n",
        "    for j in range(2,len(n)+1):\n",
        "        for i in range(len(n)-j+1):\n",
        "            end=i+j\n",
        "            if j==2:\n",
        "                if n[i]==n[end-1]:\n",
        "                    d[i][end-1]=True\n",
        "                    maxlen=j\n",
        "                    start=i\n",
        "            else:\n",
        "                if n[i]==n[end-1] and d[i+1][end-2]:\n",
        "                    d[i][end-1]=True\n",
        "                    maxlen=j\n",
        "                    start=i\n",
        "    return n[start:start+maxlen]\n",
        "n=input(\"Enter a string : \")\n",
        "print(longestpalindrome(n))"
      ],
      "execution_count": null,
      "outputs": [
        {
          "output_type": "stream",
          "text": [
            "Enter a string : krishnasai\n",
            "asa\n"
          ],
          "name": "stdout"
        }
      ]
    },
    {
      "cell_type": "markdown",
      "metadata": {
        "id": "K7FOEI4_xN0_",
        "colab_type": "text"
      },
      "source": [
        "16. Substring Check (Bug Funny)\n",
        "Given two binary strings, A (of length 10) and B (of length 5), output 1 if B is\n",
        "a substring of A and 0 otherwise.\n",
        "First two lines of input:\n",
        "1010110010 10110\n",
        "1110111011 10011\n",
        "First two lines of output:\n",
        "1\n",
        "0"
      ]
    },
    {
      "cell_type": "code",
      "metadata": {
        "id": "aBE6n5xExfys",
        "colab_type": "code",
        "colab": {
          "base_uri": "https://localhost:8080/",
          "height": 101
        },
        "outputId": "51fbc310-ad9d-41f9-da5d-4d2bdd4739fd"
      },
      "source": [
        "t=int(input())\n",
        "s=int(input())\n",
        "A=input(\"enter A string:\")\n",
        "B=input(\"enter B string:\")\n",
        "if B in A:\n",
        "  print(\"1\")\n",
        "else:\n",
        "    print(\"0\")\n"
      ],
      "execution_count": 11,
      "outputs": [
        {
          "output_type": "stream",
          "text": [
            "101011001010110\n",
            "1110111011101100\n",
            "enter A string:bug\n",
            "enter B string:funny\n",
            "0\n"
          ],
          "name": "stdout"
        }
      ]
    },
    {
      "cell_type": "markdown",
      "metadata": {
        "id": "Q-1SK4HEoRAt",
        "colab_type": "text"
      },
      "source": [
        "10. Write a program that reads a date from the user and computes its\n",
        "immediate successor. The date is the format YYYY-MM-DD. So, 2020-04-15\n",
        "will have the successor 2020-04-16.\n"
      ]
    },
    {
      "cell_type": "code",
      "metadata": {
        "id": "h8Mx_Yo3oasZ",
        "colab_type": "code",
        "colab": {
          "base_uri": "https://localhost:8080/",
          "height": 84
        },
        "outputId": "55709dd7-5847-4741-b1c9-30c6c0bea8dd"
      },
      "source": [
        "year=int(input(\"Enter a year : \"))\n",
        "if year%400== 0:\n",
        "    leapyear=True\n",
        "elif year%100==0:\n",
        "    leapyear=False\n",
        "elif year%4==0:\n",
        "    leapyear=True\n",
        "else:\n",
        "    leapyear=False\n",
        "month=int(input(\"Enter a month between 1 to 12 : \"))\n",
        "if month in (1, 3, 5, 7, 8, 10, 12):\n",
        "    monthlength=31\n",
        "elif month==2:\n",
        "    if leapyear:\n",
        "        monthlength=29\n",
        "    else:\n",
        "        monthlength=28\n",
        "else:\n",
        "    monthlength=30\n",
        "day=int(input(\"Enter a day between 1 to 31 : \"))\n",
        "if day<monthlength:\n",
        "    day+=1\n",
        "else:\n",
        "    day=1\n",
        "    if month==12:\n",
        "        month=1\n",
        "        year+=1\n",
        "    else:\n",
        "        month+=1\n",
        "print(\"The immediate successor is YYYY-MM-DD : %d-%d-%d.\" %(year,month,day))"
      ],
      "execution_count": 14,
      "outputs": [
        {
          "output_type": "stream",
          "text": [
            "Enter a year : 2020\n",
            "Enter a month between 1 to 12 : 11\n",
            "Enter a day between 1 to 31 : 14\n",
            "The immediate successor is YYYY-MM-DD : 2020-11-15.\n"
          ],
          "name": "stdout"
        }
      ]
    },
    {
      "cell_type": "markdown",
      "metadata": {
        "id": "vJpV7b1tp0Fn",
        "colab_type": "text"
      },
      "source": [
        "8. Units of Time\n",
        "Create a program that reads duration from the user as a number of days,\n",
        "hours, minutes, and seconds. Compute and display the total number of\n",
        "seconds represented by this duration."
      ]
    },
    {
      "cell_type": "code",
      "metadata": {
        "id": "iym5ZA-6p-JP",
        "colab_type": "code",
        "colab": {
          "base_uri": "https://localhost:8080/",
          "height": 101
        },
        "outputId": "9b096c76-b4cf-49e8-a94f-f83d30b535c0"
      },
      "source": [
        "secpermin=60\n",
        "secperhour=3600\n",
        "secperday=86400\n",
        "days=int(input(\"Enter the number of Days: \"))\n",
        "hours=int(input(\"Enter the number of Hours: \"))\n",
        "minutes=int(input(\"Enter the number of Minutes: \"))\n",
        "seconds=int(input(\"Enter the number of Seconds: \"))\n",
        "totalseconds=days*secperday\n",
        "totalseconds=totalseconds+(hours*secperhour)\n",
        "totalseconds=totalseconds+(minutes*secpermin)\n",
        "totalseconds=totalseconds+seconds\n",
        "print(\"Total number of seconds = \",\"%d\"%(totalseconds))\n"
      ],
      "execution_count": 17,
      "outputs": [
        {
          "output_type": "stream",
          "text": [
            "Enter the number of Days: 1\n",
            "Enter the number of Hours: 1\n",
            "Enter the number of Minutes: 1\n",
            "Enter the number of Seconds: 1\n",
            "Total number of seconds =  90061\n"
          ],
          "name": "stdout"
        }
      ]
    },
    {
      "cell_type": "markdown",
      "metadata": {
        "id": "TjHdi4jQrpc-",
        "colab_type": "text"
      },
      "source": [
        "17. POUR1 - Pouring water\n",
        "Given two vessels, one of which can accommodate a litres of water and the other\n",
        "- b litres of water, determine the number of steps required to obtain\n",
        "exactly c litres of water in one of the vessels.\n",
        "At the beginning both vessels are empty. The following operations are counted as\n",
        "'steps':\n",
        " emptying a vessel,\n",
        " filling a vessel,\n",
        " pouring water from one vessel to the other, without spilling, until one of\n",
        "the vessels is either full or empty.\n",
        "Input\n",
        "An integer t, 1<=t<=100, denoting the number of testcases , followed by t sets of\n",
        "input data, each consisting of three positive integers a, b, c, not larger than\n",
        "40000, given in separate lines.\n",
        "Output\n",
        "For each set of input data, output the minimum number of steps required to\n",
        "obtain c litres, or -1 if this is impossible."
      ]
    },
    {
      "cell_type": "code",
      "metadata": {
        "id": "ItINNRi_r-x7",
        "colab_type": "code",
        "colab": {
          "base_uri": "https://localhost:8080/",
          "height": 706
        },
        "outputId": "8e2cf509-38fc-4824-8f39-7db5e9f5db1b"
      },
      "source": [
        "def gcd(a,b):\n",
        "    if b==0: \n",
        "        return a \n",
        "    return gcd(b,a%b) \n",
        "def countsteps(a,b,c): \n",
        "    v1=b\n",
        "    v2=0\n",
        "    count=1\n",
        "    while ((v1 is not c) and (v2 is not c)): \n",
        "        temp=min(v1,a-v2) \n",
        "        v2=v2+temp \n",
        "        v1=v1-temp \n",
        "        count=count+1\n",
        "        if ((v2==c)or(v1==c)): \n",
        "            break\n",
        "        if v1==0: \n",
        "            v1=b \n",
        "            count=count+1\n",
        "        if v2==a: \n",
        "            v2=0\n",
        "            count=count+1\n",
        "    return count \n",
        "def ispossible(a,b,c): \n",
        "    if a>b: \n",
        "        temp=a \n",
        "        a=b \n",
        "        b=temp \n",
        "    if c>b: \n",
        "        return -1\n",
        "    if (c%(gcd(b,a)) is not 0): \n",
        "        return -1\n",
        "    return(min(countsteps(b,a,c),countsteps(a,b,c)))\n",
        "t=int(input(\"Enter no of testcases : \"))\n",
        "for i in range(t):\n",
        "  a=int(input(\"Enter capacity of vessel a : \"))\n",
        "  b=int(input(\"Enter capacity of vessel b : \"))\n",
        "  c=int(input(\"Enter capacity to be obtained :\"))\n",
        "  print(\"Minimum number of steps required is : \",ispossible(a,b,c))"
      ],
      "execution_count": 22,
      "outputs": [
        {
          "output_type": "stream",
          "text": [
            "Enter no of testcases : 10\n",
            "Enter capacity of vessel a : 15\n",
            "Enter capacity of vessel b : 10\n",
            "Enter capacity to be obtained :20\n",
            "Minimum number of steps required is :  -1\n",
            "Enter capacity of vessel a : 10\n",
            "Enter capacity of vessel b : 20\n",
            "Enter capacity to be obtained :30\n",
            "Minimum number of steps required is :  -1\n",
            "Enter capacity of vessel a : 5\n",
            "Enter capacity of vessel b : 19\n",
            "Enter capacity to be obtained :30\n",
            "Minimum number of steps required is :  -1\n",
            "Enter capacity of vessel a : 15\n",
            "Enter capacity of vessel b : 15\n",
            "Enter capacity to be obtained :30\n",
            "Minimum number of steps required is :  -1\n",
            "Enter capacity of vessel a : 10\n",
            "Enter capacity of vessel b : 10\n",
            "Enter capacity to be obtained :10\n",
            "Minimum number of steps required is :  1\n",
            "Enter capacity of vessel a : 40\n",
            "Enter capacity of vessel b : 10\n",
            "Enter capacity to be obtained :30\n",
            "Minimum number of steps required is :  2\n",
            "Enter capacity of vessel a : 30\n",
            "Enter capacity of vessel b : 10\n",
            "Enter capacity to be obtained :20\n",
            "Minimum number of steps required is :  2\n",
            "Enter capacity of vessel a : 18\n",
            "Enter capacity of vessel b : 29\n",
            "Enter capacity to be obtained :30\n",
            "Minimum number of steps required is :  -1\n",
            "Enter capacity of vessel a : 20\n",
            "Enter capacity of vessel b : 10\n",
            "Enter capacity to be obtained :25\n",
            "Minimum number of steps required is :  -1\n",
            "Enter capacity of vessel a : 50\n",
            "Enter capacity of vessel b : 30\n",
            "Enter capacity to be obtained :30\n",
            "Minimum number of steps required is :  1\n"
          ],
          "name": "stdout"
        }
      ]
    }
  ]
}