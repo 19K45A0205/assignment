{
  "nbformat": 4,
  "nbformat_minor": 0,
  "metadata": {
    "colab": {
      "name": "Untitled3.ipynb",
      "provenance": [],
      "authorship_tag": "ABX9TyMThHwvYdmnj+c0okKV0HyQ",
      "include_colab_link": true
    },
    "kernelspec": {
      "name": "python3",
      "display_name": "Python 3"
    }
  },
  "cells": [
    {
      "cell_type": "markdown",
      "metadata": {
        "id": "view-in-github",
        "colab_type": "text"
      },
      "source": [
        "<a href=\"https://colab.research.google.com/github/19K45A0205/assignment/blob/master/Untitled3.ipynb\" target=\"_parent\"><img src=\"https://colab.research.google.com/assets/colab-badge.svg\" alt=\"Open In Colab\"/></a>"
      ]
    },
    {
      "cell_type": "code",
      "metadata": {
        "id": "E95bc9_abCxv",
        "colab_type": "code",
        "colab": {}
      },
      "source": [
        ""
      ],
      "execution_count": null,
      "outputs": []
    },
    {
      "cell_type": "markdown",
      "metadata": {
        "id": "HhnAf120bFMX",
        "colab_type": "text"
      },
      "source": [
        "5. Develop a program that prompts user to enter month and print\n",
        "a. “Winter ” - December ,January and February\n",
        "b. “Spring” - March ,April and May\n",
        "c. “Summer” --- June ,July, August\n",
        "d. “Autumn ” -- September ,October, November"
      ]
    },
    {
      "cell_type": "code",
      "metadata": {
        "id": "0eRpJ5YObeMG",
        "colab_type": "code",
        "colab": {
          "base_uri": "https://localhost:8080/",
          "height": 50
        },
        "outputId": "0363586c-6a1f-4db6-8f36-df6e3296098c"
      },
      "source": [
        "winter=[\"december\",\"january\",\"february\"]\n",
        "spring=[\"march\",\"april\",\"may\"]\n",
        "summer=[\"june\",\"july\",\"august\"]\n",
        "autumn=[\"september\",\"october\",\"november\"]\n",
        "month=input(\"enter the name of the month::\")\n",
        "if month in winter:\n",
        "  print(\"it is a winter season\")\n",
        "elif month in spring:\n",
        "  print(\"it is spring season\")\n",
        "elif month in summer:\n",
        "  print(\"it is summer season\")\n",
        "else:\n",
        "  print(\"it is autumn\")\n"
      ],
      "execution_count": 5,
      "outputs": [
        {
          "output_type": "stream",
          "text": [
            "enter the name of the month::january\n",
            "it is a winter season\n"
          ],
          "name": "stdout"
        }
      ]
    }
  ]
}