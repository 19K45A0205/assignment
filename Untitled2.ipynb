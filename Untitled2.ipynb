{
  "nbformat": 4,
  "nbformat_minor": 0,
  "metadata": {
    "colab": {
      "name": "Untitled2.ipynb",
      "provenance": [],
      "authorship_tag": "ABX9TyP/oZZs7CS0VnVxqNFjk5sH",
      "include_colab_link": true
    },
    "kernelspec": {
      "name": "python3",
      "display_name": "Python 3"
    }
  },
  "cells": [
    {
      "cell_type": "markdown",
      "metadata": {
        "id": "view-in-github",
        "colab_type": "text"
      },
      "source": [
        "<a href=\"https://colab.research.google.com/github/19K45A0205/assignment/blob/master/Untitled2.ipynb\" target=\"_parent\"><img src=\"https://colab.research.google.com/assets/colab-badge.svg\" alt=\"Open In Colab\"/></a>"
      ]
    },
    {
      "cell_type": "code",
      "metadata": {
        "id": "GLqnjnR2YwzP",
        "colab_type": "code",
        "colab": {}
      },
      "source": [
        ""
      ],
      "execution_count": null,
      "outputs": []
    },
    {
      "cell_type": "markdown",
      "metadata": {
        "id": "ia9wpTNWZIDK",
        "colab_type": "text"
      },
      "source": [
        "4. Develop a program that calculates the energy needed to heat water from an initial\n",
        "temperature to a final temperature. Your program should prompt the user to enter the\n",
        "amount of water in kilograms and the initial and final temperatures of the water. The\n",
        "formula to compute the energy is\n",
        "Q = M * (finalTemperature – initialTemperature) * 4184.\n",
        "where M is the weight of water in kilograms, temperatures are in degrees Celsius, and\n",
        "energy Q is measured in joules. (L6)"
      ]
    },
    {
      "cell_type": "code",
      "metadata": {
        "id": "qmv8Ti8nZJpW",
        "colab_type": "code",
        "colab": {
          "base_uri": "https://localhost:8080/",
          "height": 84
        },
        "outputId": "5758d726-3951-4c41-9fbc-ab5d44c5090f"
      },
      "source": [
        "M=int(input(\"enter weight of water in kilograms::\"))\n",
        "IT=int(input(\"enter intial temperature::\"))\n",
        "FT=int(input(\"enter the final temperature::\"))\n",
        "energy=M*(FT-IT)*4184\n",
        "print(\"energy required::\",energy,\"joules\")"
      ],
      "execution_count": 1,
      "outputs": [
        {
          "output_type": "stream",
          "text": [
            "enter weight of water in kilograms::50\n",
            "enter intial temperature::25\n",
            "enter the final temperature::100\n",
            "energy required:: 15690000 joules\n"
          ],
          "name": "stdout"
        }
      ]
    }
  ]
}