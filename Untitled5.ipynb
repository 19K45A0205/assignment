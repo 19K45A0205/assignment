{
  "nbformat": 4,
  "nbformat_minor": 0,
  "metadata": {
    "colab": {
      "name": "Untitled5.ipynb",
      "provenance": [],
      "authorship_tag": "ABX9TyOYz460M6AKRzoIqwAjtKA4",
      "include_colab_link": true
    },
    "kernelspec": {
      "name": "python3",
      "display_name": "Python 3"
    }
  },
  "cells": [
    {
      "cell_type": "markdown",
      "metadata": {
        "id": "view-in-github",
        "colab_type": "text"
      },
      "source": [
        "<a href=\"https://colab.research.google.com/github/19K45A0205/assignment/blob/master/Untitled5.ipynb\" target=\"_parent\"><img src=\"https://colab.research.google.com/assets/colab-badge.svg\" alt=\"Open In Colab\"/></a>"
      ]
    },
    {
      "cell_type": "code",
      "metadata": {
        "id": "k46aqJCA0KTY",
        "colab_type": "code",
        "colab": {}
      },
      "source": [
        ""
      ],
      "execution_count": null,
      "outputs": []
    },
    {
      "cell_type": "markdown",
      "metadata": {
        "id": "lhenYrje0NXG",
        "colab_type": "text"
      },
      "source": [
        "8. Print all palindrome numbers between 1 to 1000"
      ]
    },
    {
      "cell_type": "code",
      "metadata": {
        "id": "OywOC4S20WEE",
        "colab_type": "code",
        "colab": {
          "base_uri": "https://localhost:8080/",
          "height": 1000
        },
        "outputId": "8ab64f53-33db-498e-b5e1-bc16eb6f511d"
      },
      "source": [
        "rem=0\n",
        "for i in range(1,1000):\n",
        "    n=i\n",
        "    rev=0\n",
        "    while n>0:\n",
        "        rem=n%10\n",
        "        rev=rev*10+rem\n",
        "        n=n//10\n",
        "    if i==rev:\n",
        "        print(i)\n"
      ],
      "execution_count": 1,
      "outputs": [
        {
          "output_type": "stream",
          "text": [
            "1\n",
            "2\n",
            "3\n",
            "4\n",
            "5\n",
            "6\n",
            "7\n",
            "8\n",
            "9\n",
            "11\n",
            "22\n",
            "33\n",
            "44\n",
            "55\n",
            "66\n",
            "77\n",
            "88\n",
            "99\n",
            "101\n",
            "111\n",
            "121\n",
            "131\n",
            "141\n",
            "151\n",
            "161\n",
            "171\n",
            "181\n",
            "191\n",
            "202\n",
            "212\n",
            "222\n",
            "232\n",
            "242\n",
            "252\n",
            "262\n",
            "272\n",
            "282\n",
            "292\n",
            "303\n",
            "313\n",
            "323\n",
            "333\n",
            "343\n",
            "353\n",
            "363\n",
            "373\n",
            "383\n",
            "393\n",
            "404\n",
            "414\n",
            "424\n",
            "434\n",
            "444\n",
            "454\n",
            "464\n",
            "474\n",
            "484\n",
            "494\n",
            "505\n",
            "515\n",
            "525\n",
            "535\n",
            "545\n",
            "555\n",
            "565\n",
            "575\n",
            "585\n",
            "595\n",
            "606\n",
            "616\n",
            "626\n",
            "636\n",
            "646\n",
            "656\n",
            "666\n",
            "676\n",
            "686\n",
            "696\n",
            "707\n",
            "717\n",
            "727\n",
            "737\n",
            "747\n",
            "757\n",
            "767\n",
            "777\n",
            "787\n",
            "797\n",
            "808\n",
            "818\n",
            "828\n",
            "838\n",
            "848\n",
            "858\n",
            "868\n",
            "878\n",
            "888\n",
            "898\n",
            "909\n",
            "919\n",
            "929\n",
            "939\n",
            "949\n",
            "959\n",
            "969\n",
            "979\n",
            "989\n",
            "999\n"
          ],
          "name": "stdout"
        }
      ]
    }
  ]
}