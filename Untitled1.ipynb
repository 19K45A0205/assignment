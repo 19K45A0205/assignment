{
  "nbformat": 4,
  "nbformat_minor": 0,
  "metadata": {
    "colab": {
      "name": "Untitled1.ipynb",
      "provenance": [],
      "collapsed_sections": [],
      "authorship_tag": "ABX9TyOTeLWoSfbMwBVscQyXyDoY",
      "include_colab_link": true
    },
    "kernelspec": {
      "name": "python3",
      "display_name": "Python 3"
    }
  },
  "cells": [
    {
      "cell_type": "markdown",
      "metadata": {
        "id": "view-in-github",
        "colab_type": "text"
      },
      "source": [
        "<a href=\"https://colab.research.google.com/github/19K45A0205/assignment/blob/master/Untitled1.ipynb\" target=\"_parent\"><img src=\"https://colab.research.google.com/assets/colab-badge.svg\" alt=\"Open In Colab\"/></a>"
      ]
    },
    {
      "cell_type": "code",
      "metadata": {
        "id": "5cXDiiP0TgV7",
        "colab_type": "code",
        "colab": {}
      },
      "source": [
        ""
      ],
      "execution_count": null,
      "outputs": []
    },
    {
      "cell_type": "markdown",
      "metadata": {
        "id": "En2TO5ESTiSJ",
        "colab_type": "text"
      },
      "source": [
        "3. The Entertainment Paradise\n",
        "A theater in Delhi wants to develop a computerized Booking System. The theater offers\n",
        "different types of seats. The Ticket rates are- Stalls- Rs. 625/-, Circle- Rs.750/-, Upper\n",
        "Class- Rs.850/- and Box- Rs.1000/-. A discount is given 10% of total amount if tickets\n",
        "are purchased on Cash. In case of credit card holders 5% discount is given.\n",
        "Input: Type of Seat: Circle\n",
        "Payment mode: cash"
      ]
    },
    {
      "cell_type": "code",
      "metadata": {
        "id": "YA9Ys2YAUBe6",
        "colab_type": "code",
        "colab": {
          "base_uri": "https://localhost:8080/",
          "height": 67
        },
        "outputId": "0ed2e1c3-ce19-4fd9-ad9b-f693df867584"
      },
      "source": [
        "type =[\"circle\",\"stalls\",\"upperclass\",\"box\"]\n",
        "payment=[\"cash\",\"card\"]\n",
        "seat=input(\"enter the type of seat::\")\n",
        "pm=input(\"enter the type of payment mode::\")\n",
        "if seat in type[0]:\n",
        "  if pm in payment[0]:\n",
        "    discount= 750*10/100\n",
        "    cost=750-discount\n",
        "  elif pm in payment[1]:\n",
        "    discount= 750*5/100\n",
        "    cost=750-discount\n",
        "  else:\n",
        "    print(\"error while entering payment mode\")\n",
        "print(\"cost of ticket::\",cost)\n"
      ],
      "execution_count": 8,
      "outputs": [
        {
          "output_type": "stream",
          "text": [
            "enter the type of seat::circle\n",
            "enter the type of payment mode::cash\n",
            "cost of ticket:: 675.0\n"
          ],
          "name": "stdout"
        }
      ]
    }
  ]
}